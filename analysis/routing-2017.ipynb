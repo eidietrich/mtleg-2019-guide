{
 "cells": [
  {
   "cell_type": "code",
   "execution_count": 91,
   "metadata": {},
   "outputs": [],
   "source": [
    "import pandas as pd\n",
    "import json\n",
    "from collections import Counter"
   ]
  },
  {
   "cell_type": "markdown",
   "metadata": {},
   "source": [
    "# Questions:\n",
    "1. What percentage of bills that became law passed their legislative votes with most dems and a few GOP reps?\n",
    "2. What percent pass with support from both caucuses?"
   ]
  },
  {
   "cell_type": "code",
   "execution_count": 3,
   "metadata": {},
   "outputs": [],
   "source": [
    "def read_json(path):\n",
    "    with open(path) as file:\n",
    "        return json.load(file)"
   ]
  },
  {
   "cell_type": "code",
   "execution_count": 4,
   "metadata": {},
   "outputs": [
    {
     "name": "stdout",
     "output_type": "stream",
     "text": [
      "leg-roster-2019.json          scrape-2019-02-23.json\n",
      "mtleg-2017.json               scrape-2019-03-01-all.json\n",
      "mtleg-2019.json               scrape-2019-all.json\n",
      "scrape-2017-bills.json        scrape-2019-bills.json\n",
      "scrape-2017-votes.json        scrape-2019-votes-TEST.json\n",
      "scrape-2019-02-21.json        scrape-2019-votes.json\n",
      "scrape-2019-02-23-bills.json  test.json\n",
      "scrape-2019-02-23-votes.json\n"
     ]
    }
   ],
   "source": [
    "%ls './../app/src/data'"
   ]
  },
  {
   "cell_type": "code",
   "execution_count": 67,
   "metadata": {},
   "outputs": [],
   "source": [
    "raw = read_json('./../app/src/data/mtleg-2017.json')\n",
    "bills = raw['bills']\n",
    "votes = raw['votes']\n",
    "lawmakers = raw['lawmakers']"
   ]
  },
  {
   "cell_type": "code",
   "execution_count": 8,
   "metadata": {},
   "outputs": [
    {
     "name": "stdout",
     "output_type": "stream",
     "text": [
      "updateDate\n",
      "votes\n",
      "bills\n",
      "lawmakers\n"
     ]
    }
   ],
   "source": [
    "for key in raw:\n",
    "    print(key)"
   ]
  },
  {
   "cell_type": "code",
   "execution_count": 15,
   "metadata": {},
   "outputs": [],
   "source": [
    "# statuses = [bill['extras']['status'] for bill in bills]"
   ]
  },
  {
   "cell_type": "code",
   "execution_count": 161,
   "metadata": {},
   "outputs": [
    {
     "ename": "KeyError",
     "evalue": "'bill'",
     "output_type": "error",
     "traceback": [
      "\u001b[0;31m---------------------------------------------------------------------------\u001b[0m",
      "\u001b[0;31mKeyError\u001b[0m                                  Traceback (most recent call last)",
      "\u001b[0;32m<ipython-input-161-0a2c26e7df21>\u001b[0m in \u001b[0;36m<module>\u001b[0;34m\u001b[0m\n\u001b[1;32m      1\u001b[0m \u001b[0mpassed\u001b[0m \u001b[0;34m=\u001b[0m \u001b[0mlist\u001b[0m\u001b[0;34m(\u001b[0m\u001b[0mfilter\u001b[0m\u001b[0;34m(\u001b[0m\u001b[0;32mlambda\u001b[0m \u001b[0mbill\u001b[0m\u001b[0;34m:\u001b[0m \u001b[0mbill\u001b[0m\u001b[0;34m[\u001b[0m\u001b[0;34m'extras'\u001b[0m\u001b[0;34m]\u001b[0m\u001b[0;34m[\u001b[0m\u001b[0;34m'status'\u001b[0m\u001b[0;34m]\u001b[0m \u001b[0;34m==\u001b[0m \u001b[0;34m'Became Law'\u001b[0m\u001b[0;34m,\u001b[0m \u001b[0mbills\u001b[0m\u001b[0;34m)\u001b[0m\u001b[0;34m)\u001b[0m\u001b[0;34m\u001b[0m\u001b[0m\n\u001b[1;32m      2\u001b[0m \u001b[0;34m\u001b[0m\u001b[0m\n\u001b[0;32m----> 3\u001b[0;31m \u001b[0mvotes_on_passed_bills\u001b[0m \u001b[0;34m=\u001b[0m \u001b[0mlist\u001b[0m\u001b[0;34m(\u001b[0m\u001b[0mfilter\u001b[0m\u001b[0;34m(\u001b[0m\u001b[0;32mlambda\u001b[0m \u001b[0mvote\u001b[0m\u001b[0;34m:\u001b[0m \u001b[0mget_bill\u001b[0m\u001b[0;34m(\u001b[0m\u001b[0mvote\u001b[0m\u001b[0;34m[\u001b[0m\u001b[0;34m'bill'\u001b[0m\u001b[0;34m]\u001b[0m\u001b[0;34m)\u001b[0m\u001b[0;34m[\u001b[0m\u001b[0;34m'extras'\u001b[0m\u001b[0;34m]\u001b[0m\u001b[0;34m[\u001b[0m\u001b[0;34m'status'\u001b[0m\u001b[0;34m]\u001b[0m \u001b[0;34m==\u001b[0m \u001b[0;34m'Became Law'\u001b[0m\u001b[0;34m,\u001b[0m \u001b[0mbills\u001b[0m\u001b[0;34m)\u001b[0m\u001b[0;34m)\u001b[0m\u001b[0;34m\u001b[0m\u001b[0m\n\u001b[0m",
      "\u001b[0;32m<ipython-input-161-0a2c26e7df21>\u001b[0m in \u001b[0;36m<lambda>\u001b[0;34m(vote)\u001b[0m\n\u001b[1;32m      1\u001b[0m \u001b[0mpassed\u001b[0m \u001b[0;34m=\u001b[0m \u001b[0mlist\u001b[0m\u001b[0;34m(\u001b[0m\u001b[0mfilter\u001b[0m\u001b[0;34m(\u001b[0m\u001b[0;32mlambda\u001b[0m \u001b[0mbill\u001b[0m\u001b[0;34m:\u001b[0m \u001b[0mbill\u001b[0m\u001b[0;34m[\u001b[0m\u001b[0;34m'extras'\u001b[0m\u001b[0;34m]\u001b[0m\u001b[0;34m[\u001b[0m\u001b[0;34m'status'\u001b[0m\u001b[0;34m]\u001b[0m \u001b[0;34m==\u001b[0m \u001b[0;34m'Became Law'\u001b[0m\u001b[0;34m,\u001b[0m \u001b[0mbills\u001b[0m\u001b[0;34m)\u001b[0m\u001b[0;34m)\u001b[0m\u001b[0;34m\u001b[0m\u001b[0m\n\u001b[1;32m      2\u001b[0m \u001b[0;34m\u001b[0m\u001b[0m\n\u001b[0;32m----> 3\u001b[0;31m \u001b[0mvotes_on_passed_bills\u001b[0m \u001b[0;34m=\u001b[0m \u001b[0mlist\u001b[0m\u001b[0;34m(\u001b[0m\u001b[0mfilter\u001b[0m\u001b[0;34m(\u001b[0m\u001b[0;32mlambda\u001b[0m \u001b[0mvote\u001b[0m\u001b[0;34m:\u001b[0m \u001b[0mget_bill\u001b[0m\u001b[0;34m(\u001b[0m\u001b[0mvote\u001b[0m\u001b[0;34m[\u001b[0m\u001b[0;34m'bill'\u001b[0m\u001b[0;34m]\u001b[0m\u001b[0;34m)\u001b[0m\u001b[0;34m[\u001b[0m\u001b[0;34m'extras'\u001b[0m\u001b[0;34m]\u001b[0m\u001b[0;34m[\u001b[0m\u001b[0;34m'status'\u001b[0m\u001b[0;34m]\u001b[0m \u001b[0;34m==\u001b[0m \u001b[0;34m'Became Law'\u001b[0m\u001b[0;34m,\u001b[0m \u001b[0mbills\u001b[0m\u001b[0;34m)\u001b[0m\u001b[0;34m)\u001b[0m\u001b[0;34m\u001b[0m\u001b[0m\n\u001b[0m",
      "\u001b[0;31mKeyError\u001b[0m: 'bill'"
     ]
    }
   ],
   "source": [
    "passed = list(filter(lambda bill: bill['extras']['status'] == 'Became Law', bills))"
   ]
  },
  {
   "cell_type": "code",
   "execution_count": 68,
   "metadata": {},
   "outputs": [
    {
     "data": {
      "text/plain": [
       "446"
      ]
     },
     "execution_count": 68,
     "metadata": {},
     "output_type": "execute_result"
    }
   ],
   "source": [
    "len(passed)"
   ]
  },
  {
   "cell_type": "code",
   "execution_count": 34,
   "metadata": {},
   "outputs": [
    {
     "data": {
      "text/plain": [
       "{'last_name': 'ABBOTT',\n",
       " 'first_name': 'KIM',\n",
       " 'party': 'D',\n",
       " 'district': 'HD 83',\n",
       " 'district_num': 83,\n",
       " 'Addr_Ln_1': 'PO BOX 1752',\n",
       " 'City': 'HELENA',\n",
       " 'StateProvince': 'MT',\n",
       " 'PostalCode': 59624,\n",
       " 'chamber': 'house',\n",
       " 'name': 'ABBOTT, KIM',\n",
       " 'laws_vote_name': 'Abbott, Kim',\n",
       " 'percentVotesWithMajority': 0.7813455657492355,\n",
       " 'percentVotesWithGopCaucus': 0.654434250764526,\n",
       " 'percentVotesWithDemCaucus': 0.9571865443425076}"
      ]
     },
     "execution_count": 34,
     "metadata": {},
     "output_type": "execute_result"
    }
   ],
   "source": [
    "lawmakers[0]"
   ]
  },
  {
   "cell_type": "code",
   "execution_count": 30,
   "metadata": {},
   "outputs": [
    {
     "data": {
      "text/plain": [
       "4561"
      ]
     },
     "execution_count": 30,
     "metadata": {},
     "output_type": "execute_result"
    }
   ],
   "source": [
    " len(votes)"
   ]
  },
  {
   "cell_type": "code",
   "execution_count": 105,
   "metadata": {},
   "outputs": [
    {
     "data": {
      "text/plain": [
       "{'legislative_session': '2017',\n",
       " 'identifier': 'SB 23',\n",
       " 'title': 'Allow in-house counsel to be deputy commissioner of political practices',\n",
       " 'from_organization': '~{\"classification\": \"upper\"}',\n",
       " 'classification': ['bill'],\n",
       " 'subject': ['Elections  (see also: Ballot Issues)'],\n",
       " 'abstracts': [],\n",
       " 'other_titles': [],\n",
       " 'other_identifiers': [],\n",
       " 'actions': [{'description': 'Draft Request Received',\n",
       "   'date': '2016-09-02',\n",
       "   'organization_id': '~{\"classification\": \"legislature\"}',\n",
       "   'classification': [],\n",
       "   'related_entities': [],\n",
       "   'extras': {'committee': ''}},\n",
       "  {'description': 'Draft to Requester for Review',\n",
       "   'date': '2016-10-25',\n",
       "   'organization_id': '~{\"classification\": \"legislature\"}',\n",
       "   'classification': [],\n",
       "   'related_entities': [],\n",
       "   'extras': {'committee': ''}},\n",
       "  {'description': 'Draft to Requester for Review',\n",
       "   'date': '2016-10-25',\n",
       "   'organization_id': '~{\"classification\": \"legislature\"}',\n",
       "   'classification': [],\n",
       "   'related_entities': [],\n",
       "   'extras': {'committee': ''}},\n",
       "  {'description': 'Draft in Legal Review',\n",
       "   'date': '2016-10-26',\n",
       "   'organization_id': '~{\"classification\": \"legislature\"}',\n",
       "   'classification': [],\n",
       "   'related_entities': [],\n",
       "   'extras': {'committee': ''}},\n",
       "  {'description': 'Draft in Edit',\n",
       "   'date': '2016-10-26',\n",
       "   'organization_id': '~{\"classification\": \"legislature\"}',\n",
       "   'classification': [],\n",
       "   'related_entities': [],\n",
       "   'extras': {'committee': ''}},\n",
       "  {'description': 'Draft to Drafter - Edit Review [CMD]',\n",
       "   'date': '2016-11-03',\n",
       "   'organization_id': '~{\"classification\": \"legislature\"}',\n",
       "   'classification': [],\n",
       "   'related_entities': [],\n",
       "   'extras': {'committee': ''}},\n",
       "  {'description': 'Draft in Input/Proofing',\n",
       "   'date': '2016-11-03',\n",
       "   'organization_id': '~{\"classification\": \"legislature\"}',\n",
       "   'classification': [],\n",
       "   'related_entities': [],\n",
       "   'extras': {'committee': ''}},\n",
       "  {'description': 'Draft in Final Drafter Review',\n",
       "   'date': '2016-11-18',\n",
       "   'organization_id': '~{\"classification\": \"legislature\"}',\n",
       "   'classification': [],\n",
       "   'related_entities': [],\n",
       "   'extras': {'committee': ''}},\n",
       "  {'description': 'Bill Draft Text Available Electronically',\n",
       "   'date': '2016-11-18',\n",
       "   'organization_id': '~{\"classification\": \"legislature\"}',\n",
       "   'classification': [],\n",
       "   'related_entities': [],\n",
       "   'extras': {'committee': ''}},\n",
       "  {'description': 'Draft in Final Drafter Review',\n",
       "   'date': '2016-11-18',\n",
       "   'organization_id': '~{\"classification\": \"legislature\"}',\n",
       "   'classification': [],\n",
       "   'related_entities': [],\n",
       "   'extras': {'committee': ''}},\n",
       "  {'description': 'Bill Draft Text Available Electronically',\n",
       "   'date': '2016-11-18',\n",
       "   'organization_id': '~{\"classification\": \"legislature\"}',\n",
       "   'classification': [],\n",
       "   'related_entities': [],\n",
       "   'extras': {'committee': ''}},\n",
       "  {'description': 'Executive Director Review',\n",
       "   'date': '2016-11-21',\n",
       "   'organization_id': '~{\"classification\": \"legislature\"}',\n",
       "   'classification': [],\n",
       "   'related_entities': [],\n",
       "   'extras': {'committee': ''}},\n",
       "  {'description': 'Draft in Assembly',\n",
       "   'date': '2016-11-21',\n",
       "   'organization_id': '~{\"classification\": \"legislature\"}',\n",
       "   'classification': [],\n",
       "   'related_entities': [],\n",
       "   'extras': {'committee': ''}},\n",
       "  {'description': 'Pre-Introduction Letter Sent',\n",
       "   'date': '2016-11-21',\n",
       "   'organization_id': '~{\"classification\": \"legislature\"}',\n",
       "   'classification': [],\n",
       "   'related_entities': [],\n",
       "   'extras': {'committee': ''}},\n",
       "  {'description': 'Pre-Introduction Letter Sent',\n",
       "   'date': '2016-11-28',\n",
       "   'organization_id': '~{\"classification\": \"legislature\"}',\n",
       "   'classification': [],\n",
       "   'related_entities': [],\n",
       "   'extras': {'committee': ''}},\n",
       "  {'description': 'Introduced',\n",
       "   'date': '2016-12-07',\n",
       "   'organization_id': '~{\"classification\": \"upper\"}',\n",
       "   'classification': ['introduction'],\n",
       "   'related_entities': [],\n",
       "   'extras': {'committee': ''}},\n",
       "  {'description': 'Introduced Bill Text Available Electronically',\n",
       "   'date': '2016-12-07',\n",
       "   'organization_id': '~{\"classification\": \"legislature\"}',\n",
       "   'classification': [],\n",
       "   'related_entities': [],\n",
       "   'extras': {'committee': ''}},\n",
       "  {'description': 'Referred to Committee',\n",
       "   'date': '2016-12-08',\n",
       "   'organization_id': '~{\"classification\": \"upper\"}',\n",
       "   'classification': ['referral-committee'],\n",
       "   'related_entities': [],\n",
       "   'extras': {'committee': '(S) State Administration'}},\n",
       "  {'description': 'First Reading',\n",
       "   'date': '2017-01-02',\n",
       "   'organization_id': '~{\"classification\": \"upper\"}',\n",
       "   'classification': ['reading-1'],\n",
       "   'related_entities': [],\n",
       "   'extras': {'committee': ''}},\n",
       "  {'description': 'Hearing',\n",
       "   'date': '2017-02-01',\n",
       "   'organization_id': '~{\"classification\": \"upper\"}',\n",
       "   'classification': [],\n",
       "   'related_entities': [],\n",
       "   'extras': {'committee': '(S) State Administration'}},\n",
       "  {'description': 'Tabled in Committee',\n",
       "   'date': '2017-02-08',\n",
       "   'organization_id': '~{\"classification\": \"upper\"}',\n",
       "   'classification': ['amendment-deferral'],\n",
       "   'related_entities': [],\n",
       "   'extras': {'committee': '(S) State Administration'}},\n",
       "  {'description': 'Missed Deadline for General Bill Transmittal',\n",
       "   'date': '2017-03-01',\n",
       "   'organization_id': '~{\"classification\": \"upper\"}',\n",
       "   'classification': [],\n",
       "   'related_entities': [],\n",
       "   'extras': {'committee': ''}},\n",
       "  {'description': 'Died in Standing Committee',\n",
       "   'date': '2017-04-28',\n",
       "   'organization_id': '~{\"classification\": \"upper\"}',\n",
       "   'classification': ['committee-failure'],\n",
       "   'related_entities': [],\n",
       "   'extras': {'committee': ''}}],\n",
       " 'sponsorships': [{'name': 'Steve Fitzpatrick',\n",
       "   'classification': 'primary',\n",
       "   'entity_type': 'person',\n",
       "   'primary': True,\n",
       "   'person_id': '~{\"name\": \"Steve Fitzpatrick\"}',\n",
       "   'organization_id': None}],\n",
       " 'related_bills': [],\n",
       " 'versions': [{'note': 'Introduced',\n",
       "   'links': [{'url': 'http://leg.mt.gov/bills/2017/billpdf/SB0023.pdf',\n",
       "     'media_type': 'application/pdf',\n",
       "     'text': ''}],\n",
       "   'date': ''}],\n",
       " 'documents': [],\n",
       " 'sources': [{'url': 'http://laws.leg.mt.gov/legprd/LAW0210W$BSIV.ActionQuery?P_BILL_NO1=23&P_BLTP_BILL_TYP_CD=SB&Z_ACTION=Find&P_SESS=20171',\n",
       "   'note': ''}],\n",
       " 'extras': {'requester': \"Commissioner of Political Practices by State Administration and Veterans' Affairs Interim Committee\",\n",
       "  'transmittal_date:': '03/01/2017',\n",
       "  'drafter': 'Aldrich',\n",
       "  'fiscal_note_probable:': 'No',\n",
       "  'bill_draft_number:': 'LC0335',\n",
       "  'preintroduction_required:': 'Y',\n",
       "  'by_request_of': 'Commissioner of Political Practices',\n",
       "  'category:': 'General Bills',\n",
       "  'status': 'Probably Dead'},\n",
       " '_id': '0017b15c-50cc-11e9-b623-0242ac160002'}"
      ]
     },
     "execution_count": 105,
     "metadata": {},
     "output_type": "execute_result"
    }
   ],
   "source": [
    "bills[0]"
   ]
  },
  {
   "cell_type": "code",
   "execution_count": 152,
   "metadata": {},
   "outputs": [],
   "source": [
    "def get_bill_votes(bill):\n",
    "    bill_id = bill['_id']\n",
    "    return list(filter(lambda vote: vote['bill'] == bill_id, votes)) \n",
    "\n",
    "def categorize_votes(vote):\n",
    "    if (vote['gopCaucus']['caucus'] == 'yes' and vote['demCaucus']['caucus'] == 'yes'):\n",
    "        vote_class = 'both support'\n",
    "    elif (vote['gopCaucus']['caucus'] == 'no' and vote['demCaucus']['caucus'] == 'no'):\n",
    "        vote_class = 'neither'\n",
    "    elif (vote['gopCaucus']['caucus'] == 'yes' and vote['demCaucus']['caucus'] == 'no'):\n",
    "        vote_class = 'only GOP'\n",
    "    elif (vote['gopCaucus']['caucus'] == 'no' and vote['demCaucus']['caucus'] == 'yes'):\n",
    "        vote_class = 'only Dem'\n",
    "    else:\n",
    "        vote_class = 'error'\n",
    "    \n",
    "    return {\n",
    "        'bill': vote['bill'],\n",
    "        'bill_action': vote['bill_action'],\n",
    "        'counts': vote['counts'],\n",
    "        'gopCaucus': vote['gopCaucus'],\n",
    "        'demCaucus': vote['demCaucus'],\n",
    "        'vote_class': vote_class,\n",
    "    }\n",
    "\n",
    "inc_actions = ['2nd Reading Passed','2nd Reading Concurred', '2nd Reading Concurred as Amended', '2nd Reading Not Passed',\n",
    "    '2nd Reading Not Concurred', '2nd Reading Passed as Amended', '2nd Reading Not Passed as Amended',\n",
    "    '2nd Reading Pass Motion Failed', '2nd Reading Concur Motion Failed',\n",
    " ]\n",
    "\n",
    "def get_bill(bill_id):\n",
    "    return list(filter(lambda bill: bill['_id'] == bill_id, bills))"
   ]
  },
  {
   "cell_type": "code",
   "execution_count": 154,
   "metadata": {},
   "outputs": [],
   "source": [
    "# get_bill('026accde-50c5-11e9-b623-0242ac160002')"
   ]
  },
  {
   "cell_type": "code",
   "execution_count": 150,
   "metadata": {},
   "outputs": [
    {
     "data": {
      "text/plain": [
       "{'id': '026accde-50c5-11e9-b623-0242ac160002',\n",
       " 'bill': 'Revise legislative objection polling for administrative rulemaking process',\n",
       " 'votes': ('both support', 'both support')}"
      ]
     },
     "execution_count": 150,
     "metadata": {},
     "output_type": "execute_result"
    }
   ],
   "source": [
    "def summarize_bill(bill):\n",
    "    bill_votes = get_bill_votes(bill)\n",
    "    categorized = [categorize_votes(vote) for vote in bill_votes if (vote['bill_action'] in inc_actions)]\n",
    "#     cateogrized = [{'c': categorize_votes(vote)} for vote in bill_votes if (vote['bill_action'] in inc_actions)]\n",
    "#     summarized = dict(Counter([action['vote_class'] for action in categorized]))\n",
    "    \n",
    "    return {\n",
    "        'id': bill['_id'],\n",
    "        'bill': bill['title'],\n",
    "        'votes': tuple([action['vote_class'] for action in categorized]),\n",
    "#         'categorized': categorized,\n",
    "    }\n",
    "\n",
    "summarize_bill(bills[10])"
   ]
  },
  {
   "cell_type": "code",
   "execution_count": 141,
   "metadata": {},
   "outputs": [
    {
     "data": {
      "text/plain": [
       "Counter({('both support', 'both support'): 337,\n",
       "         ('only GOP', 'only GOP'): 15,\n",
       "         ('only Dem', 'both support'): 16,\n",
       "         ('only Dem', 'only Dem', 'both support'): 2,\n",
       "         ('both support', 'only GOP'): 16,\n",
       "         ('only GOP', 'both support'): 10,\n",
       "         ('both support', 'only Dem'): 12,\n",
       "         ('both support', 'both support', 'only Dem'): 2,\n",
       "         ('both support', 'only GOP', 'only GOP'): 1,\n",
       "         ('both support', 'both support', 'both support'): 13,\n",
       "         ('only Dem', 'only Dem'): 8,\n",
       "         ('only Dem', 'both support', 'only Dem'): 3,\n",
       "         ('only Dem', 'only GOP'): 1,\n",
       "         (): 1,\n",
       "         ('both support', 'both support', 'both support', 'both support'): 2,\n",
       "         ('both support', 'only Dem', 'only Dem'): 1,\n",
       "         ('only Dem', 'only Dem', 'only Dem'): 3,\n",
       "         ('both support',): 1,\n",
       "         ('both support', 'only Dem', 'both support'): 1,\n",
       "         ('only GOP', 'only Dem'): 1})"
      ]
     },
     "execution_count": 141,
     "metadata": {},
     "output_type": "execute_result"
    }
   ],
   "source": [
    "Counter([summarize_bill(bill)['votes'] for bill in passed])"
   ]
  },
  {
   "cell_type": "code",
   "execution_count": 137,
   "metadata": {},
   "outputs": [],
   "source": [
    "# [vote for vote in votes if vote['bill'] == 'fc5631ce-50c6-11e9-b623-0242ac160002'][0]"
   ]
  },
  {
   "cell_type": "code",
   "execution_count": 160,
   "metadata": {},
   "outputs": [
    {
     "ename": "TypeError",
     "evalue": "list indices must be integers or slices, not str",
     "output_type": "error",
     "traceback": [
      "\u001b[0;31m---------------------------------------------------------------------------\u001b[0m",
      "\u001b[0;31mTypeError\u001b[0m                                 Traceback (most recent call last)",
      "\u001b[0;32m<ipython-input-160-a5a7b5d3958c>\u001b[0m in \u001b[0;36m<module>\u001b[0;34m\u001b[0m\n\u001b[0;32m----> 1\u001b[0;31m \u001b[0;34m[\u001b[0m\u001b[0mvote\u001b[0m \u001b[0;32mfor\u001b[0m \u001b[0mvote\u001b[0m \u001b[0;32min\u001b[0m \u001b[0mvotes\u001b[0m \u001b[0;32mif\u001b[0m \u001b[0mget_bill\u001b[0m\u001b[0;34m(\u001b[0m\u001b[0mvote\u001b[0m\u001b[0;34m[\u001b[0m\u001b[0;34m'bill'\u001b[0m\u001b[0;34m]\u001b[0m\u001b[0;34m)\u001b[0m\u001b[0;34m[\u001b[0m\u001b[0;34m'extras'\u001b[0m\u001b[0;34m]\u001b[0m\u001b[0;34m[\u001b[0m\u001b[0;34m'status'\u001b[0m\u001b[0;34m]\u001b[0m \u001b[0;34m==\u001b[0m \u001b[0;34m'Became Law'\u001b[0m\u001b[0;34m]\u001b[0m\u001b[0;34m\u001b[0m\u001b[0m\n\u001b[0m",
      "\u001b[0;32m<ipython-input-160-a5a7b5d3958c>\u001b[0m in \u001b[0;36m<listcomp>\u001b[0;34m(.0)\u001b[0m\n\u001b[0;32m----> 1\u001b[0;31m \u001b[0;34m[\u001b[0m\u001b[0mvote\u001b[0m \u001b[0;32mfor\u001b[0m \u001b[0mvote\u001b[0m \u001b[0;32min\u001b[0m \u001b[0mvotes\u001b[0m \u001b[0;32mif\u001b[0m \u001b[0mget_bill\u001b[0m\u001b[0;34m(\u001b[0m\u001b[0mvote\u001b[0m\u001b[0;34m[\u001b[0m\u001b[0;34m'bill'\u001b[0m\u001b[0;34m]\u001b[0m\u001b[0;34m)\u001b[0m\u001b[0;34m[\u001b[0m\u001b[0;34m'extras'\u001b[0m\u001b[0;34m]\u001b[0m\u001b[0;34m[\u001b[0m\u001b[0;34m'status'\u001b[0m\u001b[0;34m]\u001b[0m \u001b[0;34m==\u001b[0m \u001b[0;34m'Became Law'\u001b[0m\u001b[0;34m]\u001b[0m\u001b[0;34m\u001b[0m\u001b[0m\n\u001b[0m",
      "\u001b[0;31mTypeError\u001b[0m: list indices must be integers or slices, not str"
     ]
    }
   ],
   "source": [
    "[vote for vote in votes if get_bill(vote['bill'])['extras']['status'] == 'Became Law']"
   ]
  },
  {
   "cell_type": "code",
   "execution_count": null,
   "metadata": {},
   "outputs": [],
   "source": [
    "categorize_votes(vote)['vote_class']"
   ]
  },
  {
   "cell_type": "code",
   "execution_count": 162,
   "metadata": {},
   "outputs": [
    {
     "ename": "KeyError",
     "evalue": "'bill'",
     "output_type": "error",
     "traceback": [
      "\u001b[0;31m---------------------------------------------------------------------------\u001b[0m",
      "\u001b[0;31mKeyError\u001b[0m                                  Traceback (most recent call last)",
      "\u001b[0;32m<ipython-input-162-a7de05dc0f1d>\u001b[0m in \u001b[0;36m<module>\u001b[0;34m\u001b[0m\n\u001b[0;32m----> 1\u001b[0;31m \u001b[0mvotes_on_passed_bills\u001b[0m \u001b[0;34m=\u001b[0m \u001b[0mlist\u001b[0m\u001b[0;34m(\u001b[0m\u001b[0mfilter\u001b[0m\u001b[0;34m(\u001b[0m\u001b[0;32mlambda\u001b[0m \u001b[0mvote\u001b[0m\u001b[0;34m:\u001b[0m \u001b[0mget_bill\u001b[0m\u001b[0;34m(\u001b[0m\u001b[0mvote\u001b[0m\u001b[0;34m[\u001b[0m\u001b[0;34m'bill'\u001b[0m\u001b[0;34m]\u001b[0m\u001b[0;34m)\u001b[0m\u001b[0;34m[\u001b[0m\u001b[0;34m'extras'\u001b[0m\u001b[0;34m]\u001b[0m\u001b[0;34m[\u001b[0m\u001b[0;34m'status'\u001b[0m\u001b[0;34m]\u001b[0m \u001b[0;34m==\u001b[0m \u001b[0;34m'Became Law'\u001b[0m\u001b[0;34m,\u001b[0m \u001b[0mbills\u001b[0m\u001b[0;34m)\u001b[0m\u001b[0;34m)\u001b[0m\u001b[0;34m\u001b[0m\u001b[0m\n\u001b[0m",
      "\u001b[0;32m<ipython-input-162-a7de05dc0f1d>\u001b[0m in \u001b[0;36m<lambda>\u001b[0;34m(vote)\u001b[0m\n\u001b[0;32m----> 1\u001b[0;31m \u001b[0mvotes_on_passed_bills\u001b[0m \u001b[0;34m=\u001b[0m \u001b[0mlist\u001b[0m\u001b[0;34m(\u001b[0m\u001b[0mfilter\u001b[0m\u001b[0;34m(\u001b[0m\u001b[0;32mlambda\u001b[0m \u001b[0mvote\u001b[0m\u001b[0;34m:\u001b[0m \u001b[0mget_bill\u001b[0m\u001b[0;34m(\u001b[0m\u001b[0mvote\u001b[0m\u001b[0;34m[\u001b[0m\u001b[0;34m'bill'\u001b[0m\u001b[0;34m]\u001b[0m\u001b[0;34m)\u001b[0m\u001b[0;34m[\u001b[0m\u001b[0;34m'extras'\u001b[0m\u001b[0;34m]\u001b[0m\u001b[0;34m[\u001b[0m\u001b[0;34m'status'\u001b[0m\u001b[0;34m]\u001b[0m \u001b[0;34m==\u001b[0m \u001b[0;34m'Became Law'\u001b[0m\u001b[0;34m,\u001b[0m \u001b[0mbills\u001b[0m\u001b[0;34m)\u001b[0m\u001b[0;34m)\u001b[0m\u001b[0;34m\u001b[0m\u001b[0m\n\u001b[0m",
      "\u001b[0;31mKeyError\u001b[0m: 'bill'"
     ]
    }
   ],
   "source": [
    "votes_on_passed_bills = list(filter(lambda vote: get_bill(vote['bill'])['extras']['status'] == 'Became Law', bills))"
   ]
  },
  {
   "cell_type": "code",
   "execution_count": null,
   "metadata": {},
   "outputs": [],
   "source": []
  }
 ],
 "metadata": {
  "kernelspec": {
   "display_name": "Python 3",
   "language": "python",
   "name": "python3"
  },
  "language_info": {
   "codemirror_mode": {
    "name": "ipython",
    "version": 3
   },
   "file_extension": ".py",
   "mimetype": "text/x-python",
   "name": "python",
   "nbconvert_exporter": "python",
   "pygments_lexer": "ipython3",
   "version": "3.6.4"
  }
 },
 "nbformat": 4,
 "nbformat_minor": 2
}
